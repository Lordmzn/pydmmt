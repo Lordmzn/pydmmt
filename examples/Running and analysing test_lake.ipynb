{
 "cells": [
  {
   "cell_type": "markdown",
   "metadata": {},
   "source": [
    "# Running a model and loading the simulation it produces\n",
    "Very simple example with the stationary dynamic system defined in ```test_lake.yaml```. Basically it represents a stationary reservoir whose discretized mass balance equation is modelled as in the left side of the following table. On the right side, you find the pseudocode in the ```test_lake.yaml```.\n",
    "\n",
    "<table>\n",
    "<tr>\n",
    "<th>Equations</th>\n",
    "<th>YAML</th>\n",
    "</tr>\n",
    "<tr>\n",
    "<td>\n",
    "$$\\begin{aligned}\n",
    "h_{t+1} &= h_t + \\Delta_t * \\left(a_{t+1} - r_{t+1} \\right) \\\\\n",
    "r_{t+1} &= \\begin{cases}\n",
    "h_t & u_t > h_t \\\\\n",
    "u_t & h_t - 100 < u_t \\leq h_t \\\\\n",
    "h_t - 100 & u_t \\leq h_t - 100\n",
    "\\end{cases} \\\\\n",
    "u_t &= m\\left(h_t; \\theta\\right) \\\\\n",
    "a_{t+1} &= 40\n",
    "\\end{aligned}$$\n",
    "</td>\n",
    "<td>\n",
    "```\n",
    "functions:\n",
    "  - \"h[t+1] = h[t] + 1 * (a[t+1] - r[t+1])\"\n",
    "  - \"r[t+1] = max( max( h[t] - 100, 0 ), min( h[t], u[t] ) )\"\n",
    "  # - \"u[t] = RBF( h[t], architecture=3, uniformizers=[(0,155), (0,155)] )\"\n",
    "  - \"u[t] = alfa * h[t]\"\n",
    "  - \"a[t+1] = 40\"\n",
    "  - \"h[0] = 100\"\n",
    "```\n",
    "</td>\n",
    "</tr>\n",
    "</table>\n",
    "\n",
    "and the initial condition is given by $h_0 = 100$. Note that the control of this reservoir is demanded to a feedback \n",
    "policy ($u_t = m\\left(h_t; \\theta\\right)$) that is identified by a class $m(\\cdot)$ of functions and a set of parameters $\\theta$.\n",
    "\n",
    "The system is operated to achieve certain objectives over the entire operational horizon simulated, namely:\n",
    "* limit flooding along lake shores,\n",
    "* supply a certain amount of water to downstream irrigation districts,\n",
    "* supply water to an hydropower plant that has to meet a certain demand,\n",
    "* limit flooding along the downstream water body.\n",
    "\n",
    "These objectives are formulated as the daily mean of the following indicators:\n",
    "\n",
    "<table>\n",
    "<tr>\n",
    "<th>Equations</th>\n",
    "<th>YAML</th>\n",
    "</tr>\n",
    "<tr>\n",
    "<td>\n",
    "$$\\begin{aligned}\n",
    "h^\\text{excess}_{t+1} &= \\max\\left( h_t - 50, 0 \\right) \\\\\n",
    "\\text{deficit}^{irr}_{t+1} &= \\max\\left( 50 - r_{t+1}, 0 \\right) \\\\\n",
    "\\text{deficit}^{HP}_{t+1} &= \\max\\left( 4.36 - HP_{t+1}, 0 \\right) \\\\\n",
    "HP_{t+1} &= \\frac{1 * 9.81 * 1000 * h_t * \\max\\left( r_{t+1} - 0, 0 \\right)}{3600 * 1000} \\\\\n",
    "r^\\text{excess}_{t+1} &= \\max\\left( r_{t+1} - 30, 0 \\right)\n",
    "\\end{aligned}$$\n",
    "</td>\n",
    "<td>\n",
    "```\n",
    "functions:\n",
    "  # indicators\n",
    "  - \"h_excess[t+1] = max( h[t] - 50, 0 )\"\n",
    "  - \"irr_deficit[t+1] = max( 50 - r[t+1], 0 )\"\n",
    "  - \"hyd_deficit[t+1] = max( 4.36 - HP[t+1], 0 )\"\n",
    "  - \"HP[t+1] = 1 * 9.81 * 1000 / 3600000 * h[t] * max( r[t+1] - 0, 0 )\"\n",
    "  - \"r_excess[t+1] = max( r[t+1] - 30, 0 )\"\n",
    "  # overall objectives\n",
    "  - \"mean_daily_h_excess = mean( h_excess[1:100] )\"\n",
    "  - \"mean_daily_irr_deficit = mean( irr_deficit[2:101] )\"\n",
    "  - \"mean_daily_hyd_deficit = mean( hyd_deficit[2:101] )\"\n",
    "  - \"mean_daily_r_excess = mean( r_excess[2:101] )\"\n",
    "```\n",
    "</td>\n",
    "</tr>\n",
    "</table>"
   ]
  },
  {
   "cell_type": "markdown",
   "metadata": {},
   "source": [
    "## Running the actual model"
   ]
  },
  {
   "cell_type": "code",
   "execution_count": 24,
   "metadata": {
    "collapsed": false,
    "scrolled": true
   },
   "outputs": [
    {
     "name": "stdout",
     "output_type": "stream",
     "text": [
      "82.2109988777 10.2356902357 0.0 9.76430976431\n"
     ]
    }
   ],
   "source": [
    "from subprocess import Popen, PIPE, STDOUT\n",
    "p = Popen([\"../pydmmt/pydmmt.py\", \"test_lake.yml\"], stdin=PIPE, stdout=PIPE, stderr=STDOUT)\n",
    "output = p.communicate(\".3\".encode('utf-8'))[0]\n",
    "# trim the '\\n' newline char\n",
    "print(output[:-1].decode('utf-8'))"
   ]
  },
  {
   "cell_type": "markdown",
   "metadata": {},
   "source": [
    "Now load results and cleanup the simulation file"
   ]
  },
  {
   "cell_type": "code",
   "execution_count": 25,
   "metadata": {
    "collapsed": false
   },
   "outputs": [
    {
     "name": "stdout",
     "output_type": "stream",
     "text": [
      "       t        h[t]  a[t+1]       u[t]     r[t+1]\n",
      "0      0  100.000000     NaN  30.000000        NaN\n",
      "1      1  110.000000    40.0  33.000000  30.000000\n",
      "2      2  117.000000    40.0  35.100000  33.000000\n",
      "3      3  121.900000    40.0  36.570000  35.100000\n",
      "4      4  125.330000    40.0  37.599000  36.570000\n",
      "5      5  127.731000    40.0  38.319300  37.599000\n",
      "6      6  129.411700    40.0  38.823510  38.319300\n",
      "7      7  130.588190    40.0  39.176457  38.823510\n",
      "8      8  131.411733    40.0  39.423520  39.176457\n",
      "9      9  131.988213    40.0  39.596464  39.423520\n",
      "10    10  132.391749    40.0  39.717525  39.596464\n",
      "11    11  132.674224    40.0  39.802267  39.717525\n",
      "12    12  132.871957    40.0  39.861587  39.802267\n",
      "13    13  133.010370    40.0  39.903111  39.861587\n",
      "14    14  133.107259    40.0  39.932178  39.903111\n",
      "15    15  133.175081    40.0  39.952524  39.932178\n",
      "16    16  133.222557    40.0  39.966767  39.952524\n",
      "17    17  133.255790    40.0  39.976737  39.966767\n",
      "18    18  133.279053    40.0  39.983716  39.976737\n",
      "19    19  133.295337    40.0  39.988601  39.983716\n",
      "20    20  133.306736    40.0  39.992021  39.988601\n",
      "21    21  133.314715    40.0  39.994415  39.992021\n",
      "22    22  133.320301    40.0  39.996090  39.994415\n",
      "23    23  133.324210    40.0  39.997263  39.996090\n",
      "24    24  133.326947    40.0  39.998084  39.997263\n",
      "25    25  133.328863    40.0  39.998659  39.998084\n",
      "26    26  133.330204    40.0  39.999061  39.998659\n",
      "27    27  133.331143    40.0  39.999343  39.999061\n",
      "28    28  133.331800    40.0  39.999540  39.999343\n",
      "29    29  133.332260    40.0  39.999678  39.999540\n",
      "..   ...         ...     ...        ...        ...\n",
      "72    72  133.333333    40.0  40.000000  40.000000\n",
      "73    73  133.333333    40.0  40.000000  40.000000\n",
      "74    74  133.333333    40.0  40.000000  40.000000\n",
      "75    75  133.333333    40.0  40.000000  40.000000\n",
      "76    76  133.333333    40.0  40.000000  40.000000\n",
      "77    77  133.333333    40.0  40.000000  40.000000\n",
      "78    78  133.333333    40.0  40.000000  40.000000\n",
      "79    79  133.333333    40.0  40.000000  40.000000\n",
      "80    80  133.333333    40.0  40.000000  40.000000\n",
      "81    81  133.333333    40.0  40.000000  40.000000\n",
      "82    82  133.333333    40.0  40.000000  40.000000\n",
      "83    83  133.333333    40.0  40.000000  40.000000\n",
      "84    84  133.333333    40.0  40.000000  40.000000\n",
      "85    85  133.333333    40.0  40.000000  40.000000\n",
      "86    86  133.333333    40.0  40.000000  40.000000\n",
      "87    87  133.333333    40.0  40.000000  40.000000\n",
      "88    88  133.333333    40.0  40.000000  40.000000\n",
      "89    89  133.333333    40.0  40.000000  40.000000\n",
      "90    90  133.333333    40.0  40.000000  40.000000\n",
      "91    91  133.333333    40.0  40.000000  40.000000\n",
      "92    92  133.333333    40.0  40.000000  40.000000\n",
      "93    93  133.333333    40.0  40.000000  40.000000\n",
      "94    94  133.333333    40.0  40.000000  40.000000\n",
      "95    95  133.333333    40.0  40.000000  40.000000\n",
      "96    96  133.333333    40.0  40.000000  40.000000\n",
      "97    97  133.333333    40.0  40.000000  40.000000\n",
      "98    98  133.333333    40.0  40.000000  40.000000\n",
      "99    99  133.333333    40.0  40.000000  40.000000\n",
      "100  100  133.333333    40.0  40.000000  40.000000\n",
      "101  101  133.333333    40.0  40.000000  40.000000\n",
      "\n",
      "[102 rows x 5 columns]\n"
     ]
    }
   ],
   "source": [
    "from pathlib import Path\n",
    "import csv\n",
    "import pandas as pd\n",
    "import numpy as np\n",
    "import matplotlib.pyplot as plt\n",
    "import os\n",
    "simfile = Path(\"lake_simulation.log\")\n",
    "# read sim_data_file and remove the character \"#\" from the first column\n",
    "with simfile.open() as f:\n",
    "    the_sim = pd.read_csv(f)\n",
    "    the_sim = the_sim.rename(columns={'# t':'t'})\n",
    "f.close()\n",
    "os.remove(str(simfile))\n",
    "print(the_sim)"
   ]
  },
  {
   "cell_type": "markdown",
   "metadata": {},
   "source": [
    "## Plotting"
   ]
  },
  {
   "cell_type": "code",
   "execution_count": 27,
   "metadata": {
    "collapsed": false
   },
   "outputs": [
    {
     "data": {
      "image/png": "[encoded data removed]",
      "text/plain": [
       "<matplotlib.figure.Figure at 0x10724d3c8>"
      ]
     },
     "metadata": {},
     "output_type": "display_data"
    }
   ],
   "source": [
    "level = pd.Series(the_sim[\"h[t]\"], index=the_sim[\"t\"])\n",
    "inflow = pd.Series(the_sim[\"a[t+1]\"], index=the_sim[\"t\"])\n",
    "release = pd.Series(the_sim[\"r[t+1]\"], index=the_sim[\"t\"])\n",
    "\n",
    "plt.figure()\n",
    "plt.subplot(211)\n",
    "level.plot()\n",
    "plt.axis([0, 20, 0, 150])\n",
    "plt.ylabel(\"Lake level\")\n",
    "plt.title(\"Reservoir evolution\")\n",
    "\n",
    "plt.subplot(212)\n",
    "inflow.plot()\n",
    "release.plot()\n",
    "plt.axis([0, 20, 0, 150])\n",
    "plt.ylabel(\"Flow\")\n",
    "plt.legend([\"Inflow\", \"Release\"])\n",
    "\n",
    "plt.show()"
   ]
  }
 ],
 "metadata": {
  "kernelspec": {
   "display_name": "Python 3",
   "language": "python",
   "name": "python3"
  },
  "language_info": {
   "codemirror_mode": {
    "name": "ipython",
    "version": 3
   },
   "file_extension": ".py",
   "mimetype": "text/x-python",
   "name": "python",
   "nbconvert_exporter": "python",
   "pygments_lexer": "ipython3",
   "version": "3.5.1"
  }
 },
 "nbformat": 4,
 "nbformat_minor": 1
}
